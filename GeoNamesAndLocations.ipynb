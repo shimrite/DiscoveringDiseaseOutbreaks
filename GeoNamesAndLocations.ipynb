{
 "cells": [
  {
   "cell_type": "code",
   "execution_count": 1,
   "metadata": {},
   "outputs": [],
   "source": [
    "%matplotlib inline\n",
    "import re\n",
    "import geonamescache\n",
    "import pandas as pd\n",
    "import unidecode\n"
   ]
  },
  {
   "cell_type": "markdown",
   "metadata": {},
   "source": [
    "### This file include the following steps:\n",
    "    1. Create Locations Maps\n",
    "    2. Loop on headlines and extract Locations\n",
    "    3. Save Locations DF into two json files\n",
    "    4. Visualization"
   ]
  },
  {
   "cell_type": "markdown",
   "metadata": {},
   "source": [
    "### Create Locations Maps (using geonamescache library)\n"
   ]
  },
  {
   "cell_type": "code",
   "execution_count": 2,
   "metadata": {},
   "outputs": [],
   "source": [
    "# create locations maps (using geonamescache library)\n",
    "# country/city names - latitude - longitude - countrycode\n",
    "gc = geonamescache.GeonamesCache()\n",
    "from geonamescache.mappers import country\n",
    "country_name2capital_mapper = country(from_key='name', to_key='capital')\n",
    "cities_by_name = gc.get_dataset_by_key(gc.get_cities(), 'name')\n",
    "countries_by_name = gc.get_dataset_by_key(gc.get_countries(), 'name')\n",
    "# remove \"accent\" coding\n",
    "country_accent_mapping = {\n",
    "    unidecode.unidecode(country): country for country in countries_by_name\n",
    "}\n",
    "\n",
    "city_accent_mapping = {\n",
    "    unidecode.unidecode(city): city for city in cities_by_name\n",
    "}"
   ]
  },
  {
   "cell_type": "code",
   "execution_count": 3,
   "metadata": {},
   "outputs": [],
   "source": [
    "def get_city_by_name(name):\n",
    "    # this method return the loaction of a single word (if exist in the locations map)\n",
    "    city_lat = 0\n",
    "    city_long = 0\n",
    "    city_countrycode = ''\n",
    "    city_name = ''\n",
    "    if name in city_accent_mapping.keys():\n",
    "        city = cities_by_name[city_accent_mapping[name]]\n",
    "        city_lat = city['latitude'] \n",
    "        city_long = city['longitude'] \n",
    "        city_countrycode = city['countrycode']\n",
    "        city_name = name\n",
    "    else:\n",
    "         city_name = 'NaN'   \n",
    "    return [city_name, city_lat, city_long, city_countrycode]"
   ]
  },
  {
   "cell_type": "code",
   "execution_count": 4,
   "metadata": {},
   "outputs": [],
   "source": [
    "def find_city_and_country_in_word(word, prev_word, preprev_word, line_city, line_lat, line_long, line_country, line_capital, line_capital_lat,line_capital_long, line_countrycode):\n",
    "    # this method checks if location exist by a sequence of words (3 words sequence/ 2 words sequence/ single word)\n",
    "    [prev_line_city, prev_line_lat, prev_line_long, prev_line_countrycode] = [line_city, line_lat, line_long, line_countrycode]\n",
    "    word3 = preprev_word+' '+prev_word+' '+word\n",
    "    [line_city, line_lat, line_long, line_countrycode] = get_city_by_name(word3)\n",
    "    if line_city == 'NaN':\n",
    "        word2 = prev_word+' '+word\n",
    "        [line_city, line_lat, line_long, line_countrycode] = get_city_by_name(word2)\n",
    "        if line_city == 'NaN':\n",
    "            [line_city, line_lat, line_long, line_countrycode] = get_city_by_name(word)\n",
    "            if line_city == 'NaN':\n",
    "                [line_city, line_lat, line_long, line_countrycode] = [prev_line_city, prev_line_lat, prev_line_long, prev_line_countrycode]\n",
    "                # check if word is country    \n",
    "                country_capital = country_name2capital_mapper(word)\n",
    "                if country_capital:\n",
    "                    line_country = word\n",
    "                    line_capital = unidecode.unidecode(country_capital)\n",
    "                    # if there was no city detected in line previously\n",
    "                    if prev_line_city == '':\n",
    "                        [line_city, line_lat, line_long, line_countrycode] = get_city_by_name(line_capital)\n",
    "                        if line_city != 'NaN':\n",
    "                            line_capital = line_city\n",
    "                            line_capital_lat = line_lat\n",
    "                            line_capital_long = line_long\n",
    "                        else:\n",
    "                            print(word +' CAPITAL = ' +country_capital+' not found in cities dataset')\n",
    "    \n",
    "    return [line_city, line_lat, line_long, line_country, line_capital, line_capital_lat,line_capital_long, line_countrycode]\n"
   ]
  },
  {
   "cell_type": "code",
   "execution_count": 5,
   "metadata": {},
   "outputs": [],
   "source": [
    "def find_city_and_country_in_line(line, line_count):\n",
    "    # this method find location per line:\n",
    "    # 1. split line into words\n",
    "    # 2. each word examined to be a location name - as a single word or a combination of its precidings.\n",
    "    line_count = line_count + 1\n",
    "    # init\n",
    "    preprev_word = ''\n",
    "    prev_word = ''\n",
    "    line_city = ''\n",
    "    line_country = ''\n",
    "    line_capital = ''\n",
    "    line_lat = 0\n",
    "    line_long = 0\n",
    "    line_capital_lat  = 0\n",
    "    line_capital_long = 0\n",
    "    line_countrycode = ''\n",
    "    # find geo names in line\n",
    "    line_words = re.split('[ |?|!|\\t|\\n|\\'|,]+', line) \n",
    "    for word in line_words:\n",
    "        word = unidecode.unidecode(word)\n",
    "        [line_city, line_lat, line_long, line_country, line_capital, line_capital_lat, line_capital_long, line_countrycode] = find_city_and_country_in_word(word, prev_word, preprev_word, line_city, line_lat, line_long, line_country, line_capital, line_capital_lat, line_capital_long, line_countrycode)\n",
    "        preprev_word = prev_word\n",
    "        prev_word = word\n",
    "        \n",
    "    return [line_city, line_lat, line_long, line_country, line_capital, line_capital_lat,line_capital_long, line_countrycode, line_count]\n"
   ]
  },
  {
   "cell_type": "markdown",
   "metadata": {},
   "source": [
    "### Loop on headlines --> extract city-location-countryCode and add to DataFrame"
   ]
  },
  {
   "cell_type": "code",
   "execution_count": 6,
   "metadata": {},
   "outputs": [],
   "source": [
    "count = 0\n",
    "line_count = 0\n",
    "city_count = 0\n",
    "city2_count = 0\n",
    "city3_count = 0\n",
    "country_count = 0\n",
    "line_none_count = 0\n",
    "df_line = []\n",
    "\n",
    "file = open(\"data/headlines.txt\", 'r')\n",
    "for line in file.readlines():\n",
    "    [line_city, line_lat, line_long, line_country, line_capital, line_capital_lat, line_capital_long, line_countrycode, line_count] = find_city_and_country_in_line(line, line_count)        \n",
    "    # update names list\n",
    "    line_city_name = 'NaN'\n",
    "    line_country_name = 'NaN'\n",
    "    line_countrycode_name = 'NaN'\n",
    "    if line_city:\n",
    "        line_city_name = line_city\n",
    "        line_countrycode_name = line_countrycode\n",
    "        city_count = city_count+1\n",
    "        \n",
    "    if line_country:\n",
    "        line_country_name = line_country\n",
    "        country_count = country_count + 1\n",
    "        \n",
    "    if not line_city and not line_country:\n",
    "        line_none_count = line_none_count + 1\n",
    "        #print('Line by NONE: '+ line)\n",
    "    \n",
    "    df_line = df_line + [[line, line_city_name, line_lat, line_long, line_countrycode_name]]\n",
    "    \n",
    "\n",
    "df_file = pd.DataFrame(df_line, columns = ['headline', 'cities', 'latitude', 'longitude', 'countrycode'])\n",
    "\n",
    "        \n",
    "file.close()\n"
   ]
  },
  {
   "cell_type": "code",
   "execution_count": 7,
   "metadata": {},
   "outputs": [
    {
     "name": "stdout",
     "output_type": "stream",
     "text": [
      "total headlines in file: 650\n",
      "total cities found: 608\n",
      "total countries found: 9\n",
      "total headlines with no match: 42\n"
     ]
    }
   ],
   "source": [
    "print('total headlines in file: '+ str(line_count))\n",
    "print('total cities found: '+ str(city_count))\n",
    "print('total countries found: '+ str(country_count))\n",
    "print('total headlines with no match: '+ str(line_none_count))\n",
    "\n"
   ]
  },
  {
   "cell_type": "code",
   "execution_count": 8,
   "metadata": {},
   "outputs": [
    {
     "data": {
      "text/plain": [
       "(650, 5)"
      ]
     },
     "execution_count": 8,
     "metadata": {},
     "output_type": "execute_result"
    }
   ],
   "source": [
    "df_file.shape\n"
   ]
  },
  {
   "cell_type": "code",
   "execution_count": 9,
   "metadata": {},
   "outputs": [
    {
     "data": {
      "text/html": [
       "<div>\n",
       "<style scoped>\n",
       "    .dataframe tbody tr th:only-of-type {\n",
       "        vertical-align: middle;\n",
       "    }\n",
       "\n",
       "    .dataframe tbody tr th {\n",
       "        vertical-align: top;\n",
       "    }\n",
       "\n",
       "    .dataframe thead th {\n",
       "        text-align: right;\n",
       "    }\n",
       "</style>\n",
       "<table border=\"1\" class=\"dataframe\">\n",
       "  <thead>\n",
       "    <tr style=\"text-align: right;\">\n",
       "      <th></th>\n",
       "      <th>headline</th>\n",
       "      <th>cities</th>\n",
       "      <th>latitude</th>\n",
       "      <th>longitude</th>\n",
       "      <th>countrycode</th>\n",
       "    </tr>\n",
       "  </thead>\n",
       "  <tbody>\n",
       "    <tr>\n",
       "      <th>0</th>\n",
       "      <td>Zika Outbreak Hits Miami\\n</td>\n",
       "      <td>Miami</td>\n",
       "      <td>25.77427</td>\n",
       "      <td>-80.19366</td>\n",
       "      <td>US</td>\n",
       "    </tr>\n",
       "    <tr>\n",
       "      <th>1</th>\n",
       "      <td>Could Zika Reach New York City?\\n</td>\n",
       "      <td>New York City</td>\n",
       "      <td>40.71427</td>\n",
       "      <td>-74.00597</td>\n",
       "      <td>US</td>\n",
       "    </tr>\n",
       "    <tr>\n",
       "      <th>2</th>\n",
       "      <td>First Case of Zika in Miami Beach\\n</td>\n",
       "      <td>Miami Beach</td>\n",
       "      <td>25.79065</td>\n",
       "      <td>-80.13005</td>\n",
       "      <td>US</td>\n",
       "    </tr>\n",
       "    <tr>\n",
       "      <th>3</th>\n",
       "      <td>Mystery Virus Spreads in Recife, Brazil\\n</td>\n",
       "      <td>Recife</td>\n",
       "      <td>-8.05389</td>\n",
       "      <td>-34.88111</td>\n",
       "      <td>BR</td>\n",
       "    </tr>\n",
       "    <tr>\n",
       "      <th>4</th>\n",
       "      <td>Dallas man comes down with case of Zika\\n</td>\n",
       "      <td>Dallas</td>\n",
       "      <td>44.91928</td>\n",
       "      <td>-123.31705</td>\n",
       "      <td>US</td>\n",
       "    </tr>\n",
       "    <tr>\n",
       "      <th>5</th>\n",
       "      <td>Trinidad confirms first Zika case\\n</td>\n",
       "      <td>Trinidad</td>\n",
       "      <td>-33.51650</td>\n",
       "      <td>-56.89957</td>\n",
       "      <td>UY</td>\n",
       "    </tr>\n",
       "    <tr>\n",
       "      <th>6</th>\n",
       "      <td>Zika Concerns are Spreading in Houston\\n</td>\n",
       "      <td>Houston</td>\n",
       "      <td>29.76328</td>\n",
       "      <td>-95.36327</td>\n",
       "      <td>US</td>\n",
       "    </tr>\n",
       "    <tr>\n",
       "      <th>7</th>\n",
       "      <td>Geneve Scientists Battle to Find Cure\\n</td>\n",
       "      <td>Geneve</td>\n",
       "      <td>46.20222</td>\n",
       "      <td>6.14569</td>\n",
       "      <td>CH</td>\n",
       "    </tr>\n",
       "    <tr>\n",
       "      <th>8</th>\n",
       "      <td>The CDC in Atlanta is Growing Worried\\n</td>\n",
       "      <td>Atlanta</td>\n",
       "      <td>33.74900</td>\n",
       "      <td>-84.38798</td>\n",
       "      <td>US</td>\n",
       "    </tr>\n",
       "    <tr>\n",
       "      <th>9</th>\n",
       "      <td>Zika Infested Monkeys in Sao Paulo\\n</td>\n",
       "      <td>Sao Paulo</td>\n",
       "      <td>-23.54750</td>\n",
       "      <td>-46.63611</td>\n",
       "      <td>BR</td>\n",
       "    </tr>\n",
       "  </tbody>\n",
       "</table>\n",
       "</div>"
      ],
      "text/plain": [
       "                                    headline         cities  latitude  \\\n",
       "0                 Zika Outbreak Hits Miami\\n          Miami  25.77427   \n",
       "1          Could Zika Reach New York City?\\n  New York City  40.71427   \n",
       "2        First Case of Zika in Miami Beach\\n    Miami Beach  25.79065   \n",
       "3  Mystery Virus Spreads in Recife, Brazil\\n         Recife  -8.05389   \n",
       "4  Dallas man comes down with case of Zika\\n         Dallas  44.91928   \n",
       "5        Trinidad confirms first Zika case\\n       Trinidad -33.51650   \n",
       "6   Zika Concerns are Spreading in Houston\\n        Houston  29.76328   \n",
       "7    Geneve Scientists Battle to Find Cure\\n         Geneve  46.20222   \n",
       "8    The CDC in Atlanta is Growing Worried\\n        Atlanta  33.74900   \n",
       "9       Zika Infested Monkeys in Sao Paulo\\n      Sao Paulo -23.54750   \n",
       "\n",
       "   longitude countrycode  \n",
       "0  -80.19366          US  \n",
       "1  -74.00597          US  \n",
       "2  -80.13005          US  \n",
       "3  -34.88111          BR  \n",
       "4 -123.31705          US  \n",
       "5  -56.89957          UY  \n",
       "6  -95.36327          US  \n",
       "7    6.14569          CH  \n",
       "8  -84.38798          US  \n",
       "9  -46.63611          BR  "
      ]
     },
     "execution_count": 9,
     "metadata": {},
     "output_type": "execute_result"
    }
   ],
   "source": [
    "df_file.head(10)"
   ]
  },
  {
   "cell_type": "markdown",
   "metadata": {},
   "source": [
    "### Save Locations DF into two json files\n",
    "#### 1. All Headlines Locations DF \n",
    "#### 2. Only Valid Headlines Locations -\n",
    "Invalid headline locations are: \n",
    "   * Duplicated headlines, \n",
    "   * NANs locations (no city/country found in th eheadline), \n",
    "   * Locations below 3 appearences (remian with only strong indicators for next phase - cluster detection)  "
   ]
  },
  {
   "cell_type": "code",
   "execution_count": 10,
   "metadata": {},
   "outputs": [],
   "source": [
    "import json\n",
    "\n",
    "save_file_path = \"data/headlinesGeoNamesAndLocations.json\"\n",
    "df_file.to_json(save_file_path, orient = 'records')\n"
   ]
  },
  {
   "cell_type": "code",
   "execution_count": 11,
   "metadata": {},
   "outputs": [],
   "source": [
    "df_file_check = pd.read_json(save_file_path, orient = 'records')\n"
   ]
  },
  {
   "cell_type": "code",
   "execution_count": 12,
   "metadata": {},
   "outputs": [
    {
     "name": "stdout",
     "output_type": "stream",
     "text": [
      "There were 650 rows before dropping duplicates.\n",
      "There are 648 rows after dropping duplicates.\n"
     ]
    }
   ],
   "source": [
    "print(f\"There were {len(df_file_check)} rows before dropping duplicates.\")\n",
    "df_file_check = df_file_check.drop_duplicates()\n",
    "print(f\"There are {len(df_file_check)} rows after dropping duplicates.\")"
   ]
  },
  {
   "cell_type": "code",
   "execution_count": 13,
   "metadata": {},
   "outputs": [
    {
     "name": "stdout",
     "output_type": "stream",
     "text": [
      "There are 606 rows after dropping NANs.\n"
     ]
    }
   ],
   "source": [
    "df_file_check2 = df_file_check.drop(df_file_check[df_file_check.countrycode == 'NaN'].index)\n",
    "print(f\"There are {len(df_file_check2)} rows after dropping NANs.\")"
   ]
  },
  {
   "cell_type": "code",
   "execution_count": 14,
   "metadata": {},
   "outputs": [],
   "source": [
    "country_count = df_file_check2['countrycode'].value_counts().to_frame()"
   ]
  },
  {
   "cell_type": "code",
   "execution_count": 15,
   "metadata": {},
   "outputs": [],
   "source": [
    "country_count['country'] = country_count.index\n",
    "country_count.rename(columns={\"countrycode\": \"counts\"}, inplace = True)"
   ]
  },
  {
   "cell_type": "code",
   "execution_count": 16,
   "metadata": {},
   "outputs": [
    {
     "data": {
      "text/html": [
       "<div>\n",
       "<style scoped>\n",
       "    .dataframe tbody tr th:only-of-type {\n",
       "        vertical-align: middle;\n",
       "    }\n",
       "\n",
       "    .dataframe tbody tr th {\n",
       "        vertical-align: top;\n",
       "    }\n",
       "\n",
       "    .dataframe thead th {\n",
       "        text-align: right;\n",
       "    }\n",
       "</style>\n",
       "<table border=\"1\" class=\"dataframe\">\n",
       "  <thead>\n",
       "    <tr style=\"text-align: right;\">\n",
       "      <th></th>\n",
       "      <th>counts</th>\n",
       "      <th>country</th>\n",
       "    </tr>\n",
       "  </thead>\n",
       "  <tbody>\n",
       "    <tr>\n",
       "      <th>US</th>\n",
       "      <td>343</td>\n",
       "      <td>US</td>\n",
       "    </tr>\n",
       "    <tr>\n",
       "      <th>BR</th>\n",
       "      <td>22</td>\n",
       "      <td>BR</td>\n",
       "    </tr>\n",
       "    <tr>\n",
       "      <th>PH</th>\n",
       "      <td>19</td>\n",
       "      <td>PH</td>\n",
       "    </tr>\n",
       "    <tr>\n",
       "      <th>IN</th>\n",
       "      <td>11</td>\n",
       "      <td>IN</td>\n",
       "    </tr>\n",
       "    <tr>\n",
       "      <th>MX</th>\n",
       "      <td>10</td>\n",
       "      <td>MX</td>\n",
       "    </tr>\n",
       "    <tr>\n",
       "      <th>CA</th>\n",
       "      <td>10</td>\n",
       "      <td>CA</td>\n",
       "    </tr>\n",
       "    <tr>\n",
       "      <th>CO</th>\n",
       "      <td>9</td>\n",
       "      <td>CO</td>\n",
       "    </tr>\n",
       "    <tr>\n",
       "      <th>ZA</th>\n",
       "      <td>9</td>\n",
       "      <td>ZA</td>\n",
       "    </tr>\n",
       "    <tr>\n",
       "      <th>CN</th>\n",
       "      <td>8</td>\n",
       "      <td>CN</td>\n",
       "    </tr>\n",
       "  </tbody>\n",
       "</table>\n",
       "</div>"
      ],
      "text/plain": [
       "    counts country\n",
       "US     343      US\n",
       "BR      22      BR\n",
       "PH      19      PH\n",
       "IN      11      IN\n",
       "MX      10      MX\n",
       "CA      10      CA\n",
       "CO       9      CO\n",
       "ZA       9      ZA\n",
       "CN       8      CN"
      ]
     },
     "execution_count": 16,
     "metadata": {},
     "output_type": "execute_result"
    }
   ],
   "source": [
    "country_count.head(9)"
   ]
  },
  {
   "cell_type": "code",
   "execution_count": 17,
   "metadata": {},
   "outputs": [],
   "source": [
    "min_count = 3 \n",
    "exclude_code = country_count[country_count.counts < min_count].index"
   ]
  },
  {
   "cell_type": "code",
   "execution_count": 18,
   "metadata": {},
   "outputs": [
    {
     "data": {
      "text/plain": [
       "Index(['LK', 'PT', 'UG', 'DK', 'AZ', 'SN', 'VN', 'IQ', 'TW', 'PE', 'ZM', 'NI',\n",
       "       'RU', 'BZ', 'ET', 'AE', 'IR', 'AR', 'AO', 'SI', 'NZ', 'PF', 'AM', 'BE',\n",
       "       'CG', 'ZW', 'GT', 'KE', 'NP', 'GE', 'KP', 'SA', 'DO', 'CU', 'IL', 'OM',\n",
       "       'CV', 'GA', 'YE', 'PR', 'SD', 'MH', 'EG', 'CZ', 'HN', 'HK', 'PY', 'SG',\n",
       "       'CM', 'MA', 'CD', 'BS', 'GH', 'SE', 'VI', 'KR', 'IT', 'JM', 'PK'],\n",
       "      dtype='object')"
      ]
     },
     "execution_count": 18,
     "metadata": {},
     "output_type": "execute_result"
    }
   ],
   "source": [
    "exclude_code"
   ]
  },
  {
   "cell_type": "code",
   "execution_count": 19,
   "metadata": {},
   "outputs": [
    {
     "data": {
      "text/plain": [
       "'LK\\\\b|\\\\bPT\\\\b|\\\\bUG\\\\b|\\\\bDK\\\\b|\\\\bAZ\\\\b|\\\\bSN\\\\b|\\\\bVN\\\\b|\\\\bIQ\\\\b|\\\\bTW\\\\b|\\\\bPE\\\\b|\\\\bZM\\\\b|\\\\bNI\\\\b|\\\\bRU\\\\b|\\\\bBZ\\\\b|\\\\bET\\\\b|\\\\bAE\\\\b|\\\\bIR\\\\b|\\\\bAR\\\\b|\\\\bAO\\\\b|\\\\bSI\\\\b|\\\\bNZ\\\\b|\\\\bPF\\\\b|\\\\bAM\\\\b|\\\\bBE\\\\b|\\\\bCG\\\\b|\\\\bZW\\\\b|\\\\bGT\\\\b|\\\\bKE\\\\b|\\\\bNP\\\\b|\\\\bGE\\\\b|\\\\bKP\\\\b|\\\\bSA\\\\b|\\\\bDO\\\\b|\\\\bCU\\\\b|\\\\bIL\\\\b|\\\\bOM\\\\b|\\\\bCV\\\\b|\\\\bGA\\\\b|\\\\bYE\\\\b|\\\\bPR\\\\b|\\\\bSD\\\\b|\\\\bMH\\\\b|\\\\bEG\\\\b|\\\\bCZ\\\\b|\\\\bHN\\\\b|\\\\bHK\\\\b|\\\\bPY\\\\b|\\\\bSG\\\\b|\\\\bCM\\\\b|\\\\bMA\\\\b|\\\\bCD\\\\b|\\\\bBS\\\\b|\\\\bGH\\\\b|\\\\bSE\\\\b|\\\\bVI\\\\b|\\\\bKR\\\\b|\\\\bIT\\\\b|\\\\bJM\\\\b|\\\\bPK'"
      ]
     },
     "execution_count": 19,
     "metadata": {},
     "output_type": "execute_result"
    }
   ],
   "source": [
    "exclude_code_regex = r'\\b|\\b'.join(exclude_code)\n",
    "exclude_code_regex"
   ]
  },
  {
   "cell_type": "code",
   "execution_count": 20,
   "metadata": {},
   "outputs": [],
   "source": [
    "exclude_index = []\n",
    "for index, row in df_file_check2.iterrows():\n",
    "    match = re.search(exclude_code_regex, row['countrycode'])\n",
    "    if match:\n",
    "        exclude_index = exclude_index + [index]\n"
   ]
  },
  {
   "cell_type": "code",
   "execution_count": 21,
   "metadata": {},
   "outputs": [
    {
     "data": {
      "text/plain": [
       "73"
      ]
     },
     "execution_count": 21,
     "metadata": {},
     "output_type": "execute_result"
    }
   ],
   "source": [
    "len(exclude_index)"
   ]
  },
  {
   "cell_type": "code",
   "execution_count": 22,
   "metadata": {},
   "outputs": [
    {
     "name": "stdout",
     "output_type": "stream",
     "text": [
      "There are 533 rows after dropping 'week' appearances.\n"
     ]
    }
   ],
   "source": [
    "df_file_check3 = df_file_check2.drop(exclude_index)\n",
    "print(f\"There are {len(df_file_check3)} rows after dropping 'week' appearances.\")"
   ]
  },
  {
   "cell_type": "code",
   "execution_count": 23,
   "metadata": {},
   "outputs": [],
   "source": [
    "country_count.drop(country_count[country_count.counts < 5].index, inplace=True)"
   ]
  },
  {
   "cell_type": "code",
   "execution_count": 24,
   "metadata": {},
   "outputs": [
    {
     "data": {
      "text/html": [
       "<div>\n",
       "<style scoped>\n",
       "    .dataframe tbody tr th:only-of-type {\n",
       "        vertical-align: middle;\n",
       "    }\n",
       "\n",
       "    .dataframe tbody tr th {\n",
       "        vertical-align: top;\n",
       "    }\n",
       "\n",
       "    .dataframe thead th {\n",
       "        text-align: right;\n",
       "    }\n",
       "</style>\n",
       "<table border=\"1\" class=\"dataframe\">\n",
       "  <thead>\n",
       "    <tr style=\"text-align: right;\">\n",
       "      <th></th>\n",
       "      <th>counts</th>\n",
       "      <th>country</th>\n",
       "    </tr>\n",
       "  </thead>\n",
       "  <tbody>\n",
       "    <tr>\n",
       "      <th>US</th>\n",
       "      <td>343</td>\n",
       "      <td>US</td>\n",
       "    </tr>\n",
       "    <tr>\n",
       "      <th>BR</th>\n",
       "      <td>22</td>\n",
       "      <td>BR</td>\n",
       "    </tr>\n",
       "    <tr>\n",
       "      <th>PH</th>\n",
       "      <td>19</td>\n",
       "      <td>PH</td>\n",
       "    </tr>\n",
       "    <tr>\n",
       "      <th>IN</th>\n",
       "      <td>11</td>\n",
       "      <td>IN</td>\n",
       "    </tr>\n",
       "    <tr>\n",
       "      <th>MX</th>\n",
       "      <td>10</td>\n",
       "      <td>MX</td>\n",
       "    </tr>\n",
       "    <tr>\n",
       "      <th>CA</th>\n",
       "      <td>10</td>\n",
       "      <td>CA</td>\n",
       "    </tr>\n",
       "    <tr>\n",
       "      <th>CO</th>\n",
       "      <td>9</td>\n",
       "      <td>CO</td>\n",
       "    </tr>\n",
       "    <tr>\n",
       "      <th>ZA</th>\n",
       "      <td>9</td>\n",
       "      <td>ZA</td>\n",
       "    </tr>\n",
       "    <tr>\n",
       "      <th>CN</th>\n",
       "      <td>8</td>\n",
       "      <td>CN</td>\n",
       "    </tr>\n",
       "    <tr>\n",
       "      <th>GB</th>\n",
       "      <td>8</td>\n",
       "      <td>GB</td>\n",
       "    </tr>\n",
       "    <tr>\n",
       "      <th>MY</th>\n",
       "      <td>7</td>\n",
       "      <td>MY</td>\n",
       "    </tr>\n",
       "    <tr>\n",
       "      <th>FR</th>\n",
       "      <td>6</td>\n",
       "      <td>FR</td>\n",
       "    </tr>\n",
       "    <tr>\n",
       "      <th>DE</th>\n",
       "      <td>6</td>\n",
       "      <td>DE</td>\n",
       "    </tr>\n",
       "    <tr>\n",
       "      <th>AU</th>\n",
       "      <td>5</td>\n",
       "      <td>AU</td>\n",
       "    </tr>\n",
       "    <tr>\n",
       "      <th>UY</th>\n",
       "      <td>5</td>\n",
       "      <td>UY</td>\n",
       "    </tr>\n",
       "    <tr>\n",
       "      <th>TH</th>\n",
       "      <td>5</td>\n",
       "      <td>TH</td>\n",
       "    </tr>\n",
       "    <tr>\n",
       "      <th>ID</th>\n",
       "      <td>5</td>\n",
       "      <td>ID</td>\n",
       "    </tr>\n",
       "    <tr>\n",
       "      <th>VE</th>\n",
       "      <td>5</td>\n",
       "      <td>VE</td>\n",
       "    </tr>\n",
       "  </tbody>\n",
       "</table>\n",
       "</div>"
      ],
      "text/plain": [
       "    counts country\n",
       "US     343      US\n",
       "BR      22      BR\n",
       "PH      19      PH\n",
       "IN      11      IN\n",
       "MX      10      MX\n",
       "CA      10      CA\n",
       "CO       9      CO\n",
       "ZA       9      ZA\n",
       "CN       8      CN\n",
       "GB       8      GB\n",
       "MY       7      MY\n",
       "FR       6      FR\n",
       "DE       6      DE\n",
       "AU       5      AU\n",
       "UY       5      UY\n",
       "TH       5      TH\n",
       "ID       5      ID\n",
       "VE       5      VE"
      ]
     },
     "execution_count": 24,
     "metadata": {},
     "output_type": "execute_result"
    }
   ],
   "source": [
    "country_count"
   ]
  },
  {
   "cell_type": "markdown",
   "metadata": {},
   "source": [
    "### Visualizations"
   ]
  },
  {
   "cell_type": "code",
   "execution_count": 25,
   "metadata": {},
   "outputs": [
    {
     "data": {
      "image/png": "[encoded data removed]",
      "text/plain": [
       "<Figure size 432x288 with 1 Axes>"
      ]
     },
     "metadata": {
      "needs_background": "light"
     },
     "output_type": "display_data"
    }
   ],
   "source": [
    "_ = country_count.plot.bar(title='Count of Countries')"
   ]
  },
  {
   "cell_type": "code",
   "execution_count": 26,
   "metadata": {},
   "outputs": [
    {
     "data": {
      "image/png": "[encoded data removed]",
      "text/plain": [
       "<Figure size 432x288 with 1 Axes>"
      ]
     },
     "metadata": {
      "needs_background": "light"
     },
     "output_type": "display_data"
    }
   ],
   "source": [
    "_ = df_file_check2.plot.scatter(\n",
    "    x=\"longitude\", y=\"latitude\", title=\"Scatter Plot of Latitude and Longitude\"\n",
    ")"
   ]
  },
  {
   "cell_type": "code",
   "execution_count": 27,
   "metadata": {},
   "outputs": [
    {
     "data": {
      "image/png": "[encoded data removed]",
      "text/plain": [
       "<Figure size 432x288 with 1 Axes>"
      ]
     },
     "metadata": {
      "needs_background": "light"
     },
     "output_type": "display_data"
    }
   ],
   "source": [
    "_ = df_file_check3.plot.scatter(\n",
    "    x=\"longitude\", y=\"latitude\", title=\"Scatter Plot of Latitude and Longitude\"\n",
    ")"
   ]
  },
  {
   "cell_type": "code",
   "execution_count": 28,
   "metadata": {},
   "outputs": [],
   "source": [
    "# final save\n",
    "save_file_path1 = \"data/headlinesGeoNamesAndLocationNoNaN.json\"\n",
    "df_file_check2.to_json(save_file_path1, orient = 'records')\n"
   ]
  },
  {
   "cell_type": "code",
   "execution_count": 29,
   "metadata": {},
   "outputs": [
    {
     "data": {
      "text/plain": [
       "(606, 5)"
      ]
     },
     "execution_count": 29,
     "metadata": {},
     "output_type": "execute_result"
    }
   ],
   "source": [
    "df_file_check2.shape"
   ]
  },
  {
   "cell_type": "code",
   "execution_count": 30,
   "metadata": {},
   "outputs": [],
   "source": [
    "save_file_path2 = \"data/headlinesGeoNamesAndLocationsNoNaNAbove2.json\"\n",
    "df_file_check3.to_json(save_file_path2, orient = 'records')\n"
   ]
  },
  {
   "cell_type": "code",
   "execution_count": 31,
   "metadata": {},
   "outputs": [
    {
     "data": {
      "text/plain": [
       "(533, 5)"
      ]
     },
     "execution_count": 31,
     "metadata": {},
     "output_type": "execute_result"
    }
   ],
   "source": [
    "df_file_check3.shape"
   ]
  }
 ],
 "metadata": {
  "kernelspec": {
   "display_name": "Python 3",
   "language": "python",
   "name": "python3"
  },
  "language_info": {
   "codemirror_mode": {
    "name": "ipython",
    "version": 3
   },
   "file_extension": ".py",
   "mimetype": "text/x-python",
   "name": "python",
   "nbconvert_exporter": "python",
   "pygments_lexer": "ipython3",
   "version": "3.7.6"
  }
 },
 "nbformat": 4,
 "nbformat_minor": 4
}
